{
 "cells": [
  {
   "cell_type": "code",
   "execution_count": 7,
   "id": "bf456d15-c9ad-48f2-974e-bd097fcb0ac8",
   "metadata": {},
   "outputs": [],
   "source": [
    "#Python program to find the factorial of a number\n",
    "def factorial(n):\n",
    "    if n == 0 or n == 1:\n",
    "        return 1\n",
    "    else:\n",
    "        return n * factorial(n-1)\n",
    "\n",
    "\n"
   ]
  },
  {
   "cell_type": "code",
   "execution_count": 6,
   "id": "8d2a8100-8351-412f-a4a3-e2bf8cf2bc19",
   "metadata": {},
   "outputs": [],
   "source": [
    "#Python program to find whether a number is prime or composite:\n",
    "def is_prime(num):\n",
    "    if num <= 1:\n",
    "        return \"Neither prime nor composite\"\n",
    "    for i in range(2, int(num**0.5) + 1):\n",
    "        if num % i == 0:\n",
    "            return \"Composite\"\n",
    "    return \"Prime\""
   ]
  },
  {
   "cell_type": "code",
   "execution_count": null,
   "id": "4c0fdff0-2b2f-4a40-987b-00d9cf599fb7",
   "metadata": {},
   "outputs": [],
   "source": [
    "# Python program to check whether a given string is palindrome or not:\n",
    "def is_palindrome(s):\n",
    "    return s == s[::-1]\n",
    "\n",
    "# Example usage\n",
    "s = \"radar\"\n",
    "if is_palindrome(s):\n",
    "    print(f\"'{s}' is a palindrome\")\n",
    "else:\n",
    "    print(f\"'{s}' is not a palindrome\")\n",
    "    "
   ]
  },
  {
   "cell_type": "code",
   "execution_count": 5,
   "id": "7ae6674f-e324-4402-9e1b-ca15f2dae3f4",
   "metadata": {},
   "outputs": [
    {
     "name": "stdout",
     "output_type": "stream",
     "text": [
      "The third side of the triangle is 5.0\n"
     ]
    }
   ],
   "source": [
    "#Python program to get the third side of a right-angled triangle from two given sides:\n",
    "import math\n",
    "\n",
    "def find_third_side(a, b):\n",
    "    return math.sqrt(a**2 + b**2)\n",
    "\n",
    "# Example usage\n",
    "a = 3\n",
    "b = 4\n",
    "print(f\"The third side of the triangle is {find_third_side(a, b)}\")"
   ]
  },
  {
   "cell_type": "code",
   "execution_count": 4,
   "id": "ef14095c-3e9b-4b71-a793-17925437f8d8",
   "metadata": {},
   "outputs": [
    {
     "name": "stdout",
     "output_type": "stream",
     "text": [
      "Character frequencies in 'hello world': {'h': 1, 'e': 1, 'l': 3, 'o': 2, ' ': 1, 'w': 1, 'r': 1, 'd': 1}\n"
     ]
    }
   ],
   "source": [
    " #Python program to print the frequency of each of the characters present in a given string:\n",
    "from collections import Counter\n",
    "\n",
    "def char_frequency(s):\n",
    "    return dict(Counter(s))\n",
    "\n",
    "# Example usage\n",
    "s = \"hello world\"\n",
    "freq = char_frequency(s)\n",
    "print(f\"Character frequencies in '{s}': {freq}\")"
   ]
  },
  {
   "cell_type": "code",
   "execution_count": null,
   "id": "746a39b5-f2d1-4221-b4e9-fa4a7e6b1583",
   "metadata": {},
   "outputs": [],
   "source": []
  }
 ],
 "metadata": {
  "kernelspec": {
   "display_name": "Python 3 (ipykernel)",
   "language": "python",
   "name": "python3"
  },
  "language_info": {
   "codemirror_mode": {
    "name": "ipython",
    "version": 3
   },
   "file_extension": ".py",
   "mimetype": "text/x-python",
   "name": "python",
   "nbconvert_exporter": "python",
   "pygments_lexer": "ipython3",
   "version": "3.11.7"
  }
 },
 "nbformat": 4,
 "nbformat_minor": 5
}
